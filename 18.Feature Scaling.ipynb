{
 "cells": [
  {
   "cell_type": "code",
   "execution_count": 6,
   "metadata": {},
   "outputs": [],
   "source": [
    "import numpy as np\n",
    "import pandas as pd\n",
    "import matplotlib.pyplot as plt\n",
    "import seaborn as sb"
   ]
  },
  {
   "cell_type": "code",
   "execution_count": 7,
   "metadata": {},
   "outputs": [],
   "source": [
    "dataset=pd.read_excel(\"C:/Users/Anmol/Desktop/data science/stark_data.xlsx\")"
   ]
  },
  {
   "cell_type": "code",
   "execution_count": 8,
   "metadata": {},
   "outputs": [
    {
     "data": {
      "text/plain": [
       "<bound method NDFrame.head of   Character   Age  Gender  Survived\n",
       "0    Eddard  52.0    Male         0\n",
       "1      John  27.0    Male         1\n",
       "2      Arya  21.0  Female         1\n",
       "3      Bran  19.0    Male         1\n",
       "4      Robb   NaN    Male         0\n",
       "5     Sansa  24.0  Female         1>"
      ]
     },
     "execution_count": 8,
     "metadata": {},
     "output_type": "execute_result"
    }
   ],
   "source": [
    "dataset.head"
   ]
  },
  {
   "cell_type": "code",
   "execution_count": 9,
   "metadata": {},
   "outputs": [
    {
     "name": "stderr",
     "output_type": "stream",
     "text": [
      "C:\\Users\\Anmol\\Anaconda3\\lib\\site-packages\\sklearn\\utils\\deprecation.py:58: DeprecationWarning: Class Imputer is deprecated; Imputer was deprecated in version 0.20 and will be removed in 0.22. Import impute.SimpleImputer from sklearn instead.\n",
      "  warnings.warn(msg, category=DeprecationWarning)\n"
     ]
    },
    {
     "data": {
      "text/plain": [
       "array([['Eddard', 52.0, 'Male'],\n",
       "       ['John', 27.0, 'Male'],\n",
       "       ['Arya', 21.0, 'Female'],\n",
       "       ['Bran', 19.0, 'Male'],\n",
       "       ['Robb', 28.6, 'Male'],\n",
       "       ['Sansa', 24.0, 'Female']], dtype=object)"
      ]
     },
     "execution_count": 9,
     "metadata": {},
     "output_type": "execute_result"
    }
   ],
   "source": [
    "X = dataset.iloc[:,:-1].values\n",
    "from sklearn.preprocessing import Imputer\n",
    "imputer = Imputer(missing_values = 'NaN', strategy = 'mean',axis = 0)\n",
    "imputer.fit(X[:,1:2])\n",
    "X[:,1:2] = imputer.transform(X[:,1:2])\n",
    "X[:,1:2]\n",
    "X"
   ]
  },
  {
   "cell_type": "code",
   "execution_count": 10,
   "metadata": {},
   "outputs": [
    {
     "data": {
      "text/plain": [
       "array([['Eddard', 52.0, 1],\n",
       "       ['John', 27.0, 1],\n",
       "       ['Arya', 21.0, 0],\n",
       "       ['Bran', 19.0, 1],\n",
       "       ['Robb', 28.6, 1],\n",
       "       ['Sansa', 24.0, 0]], dtype=object)"
      ]
     },
     "execution_count": 10,
     "metadata": {},
     "output_type": "execute_result"
    }
   ],
   "source": [
    "from sklearn.preprocessing import LabelEncoder, OneHotEncoder\n",
    "labelencoder_X = LabelEncoder()\n",
    "X[:,2]=labelencoder_X.fit_transform(X[:,2])\n",
    "X[:,2]\n",
    "X"
   ]
  },
  {
   "cell_type": "code",
   "execution_count": 12,
   "metadata": {},
   "outputs": [
    {
     "data": {
      "text/plain": [
       "array([2, 3, 0, 1, 4, 5], dtype=object)"
      ]
     },
     "execution_count": 12,
     "metadata": {},
     "output_type": "execute_result"
    }
   ],
   "source": [
    "X[:,0] = labelencoder_X.fit_transform(X[:,0])\n",
    "X[:,0]"
   ]
  },
  {
   "cell_type": "code",
   "execution_count": 13,
   "metadata": {},
   "outputs": [
    {
     "name": "stderr",
     "output_type": "stream",
     "text": [
      "C:\\Users\\Anmol\\Anaconda3\\lib\\site-packages\\sklearn\\preprocessing\\_encoders.py:371: FutureWarning: The handling of integer data will change in version 0.22. Currently, the categories are determined based on the range [0, max(values)], while in the future they will be determined based on the unique values.\n",
      "If you want the future behaviour and silence this warning, you can specify \"categories='auto'\".\n",
      "In case you used a LabelEncoder before this OneHotEncoder to convert the categories to integers, then you can now use the OneHotEncoder directly.\n",
      "  warnings.warn(msg, FutureWarning)\n",
      "C:\\Users\\Anmol\\Anaconda3\\lib\\site-packages\\sklearn\\preprocessing\\_encoders.py:392: DeprecationWarning: The 'categorical_features' keyword is deprecated in version 0.20 and will be removed in 0.22. You can use the ColumnTransformer instead.\n",
      "  \"use the ColumnTransformer instead.\", DeprecationWarning)\n"
     ]
    },
    {
     "data": {
      "text/plain": [
       "array([[ 0. ,  0. ,  1. ,  0. ,  0. ,  0. , 52. ,  1. ],\n",
       "       [ 0. ,  0. ,  0. ,  1. ,  0. ,  0. , 27. ,  1. ],\n",
       "       [ 1. ,  0. ,  0. ,  0. ,  0. ,  0. , 21. ,  0. ],\n",
       "       [ 0. ,  1. ,  0. ,  0. ,  0. ,  0. , 19. ,  1. ],\n",
       "       [ 0. ,  0. ,  0. ,  0. ,  1. ,  0. , 28.6,  1. ],\n",
       "       [ 0. ,  0. ,  0. ,  0. ,  0. ,  1. , 24. ,  0. ]])"
      ]
     },
     "execution_count": 13,
     "metadata": {},
     "output_type": "execute_result"
    }
   ],
   "source": [
    "onehotencoder = OneHotEncoder(categorical_features = [0])\n",
    "X = onehotencoder.fit_transform(X).toarray()\n",
    "X"
   ]
  },
  {
   "cell_type": "code",
   "execution_count": 14,
   "metadata": {},
   "outputs": [],
   "source": [
    "#Feature Scaling\n",
    "from sklearn.preprocessing import StandardScaler\n",
    "standardScalerX = StandardScaler()\n",
    "std_X = standardScalerX.fit_transform(X)"
   ]
  },
  {
   "cell_type": "code",
   "execution_count": 15,
   "metadata": {},
   "outputs": [
    {
     "data": {
      "text/plain": [
       "array([[-4.47213595e-01, -4.47213595e-01,  2.23606798e+00,\n",
       "        -4.47213595e-01, -4.47213595e-01, -4.47213595e-01,\n",
       "         2.13434010e+00,  7.07106781e-01],\n",
       "       [-4.47213595e-01, -4.47213595e-01, -4.47213595e-01,\n",
       "         2.23606798e+00, -4.47213595e-01, -4.47213595e-01,\n",
       "        -1.45937784e-01,  7.07106781e-01],\n",
       "       [ 2.23606798e+00, -4.47213595e-01, -4.47213595e-01,\n",
       "        -4.47213595e-01, -4.47213595e-01, -4.47213595e-01,\n",
       "        -6.93204476e-01, -1.41421356e+00],\n",
       "       [-4.47213595e-01,  2.23606798e+00, -4.47213595e-01,\n",
       "        -4.47213595e-01, -4.47213595e-01, -4.47213595e-01,\n",
       "        -8.75626707e-01,  7.07106781e-01],\n",
       "       [-4.47213595e-01, -4.47213595e-01, -4.47213595e-01,\n",
       "        -4.47213595e-01,  2.23606798e+00, -4.47213595e-01,\n",
       "         3.24046977e-16,  7.07106781e-01],\n",
       "       [-4.47213595e-01, -4.47213595e-01, -4.47213595e-01,\n",
       "        -4.47213595e-01, -4.47213595e-01,  2.23606798e+00,\n",
       "        -4.19571130e-01, -1.41421356e+00]])"
      ]
     },
     "execution_count": 15,
     "metadata": {},
     "output_type": "execute_result"
    }
   ],
   "source": [
    "std_X"
   ]
  },
  {
   "cell_type": "code",
   "execution_count": 16,
   "metadata": {},
   "outputs": [],
   "source": [
    "#feature scaling with min max\n",
    "from sklearn.preprocessing import MinMaxScaler\n",
    "MinMaxScalerX = MinMaxScaler()\n",
    "MN_X=MinMaxScalerX.fit_transform(X)"
   ]
  },
  {
   "cell_type": "code",
   "execution_count": 17,
   "metadata": {},
   "outputs": [
    {
     "data": {
      "text/plain": [
       "array([[0.        , 0.        , 1.        , 0.        , 0.        ,\n",
       "        0.        , 1.        , 1.        ],\n",
       "       [0.        , 0.        , 0.        , 1.        , 0.        ,\n",
       "        0.        , 0.24242424, 1.        ],\n",
       "       [1.        , 0.        , 0.        , 0.        , 0.        ,\n",
       "        0.        , 0.06060606, 0.        ],\n",
       "       [0.        , 1.        , 0.        , 0.        , 0.        ,\n",
       "        0.        , 0.        , 1.        ],\n",
       "       [0.        , 0.        , 0.        , 0.        , 1.        ,\n",
       "        0.        , 0.29090909, 1.        ],\n",
       "       [0.        , 0.        , 0.        , 0.        , 0.        ,\n",
       "        1.        , 0.15151515, 0.        ]])"
      ]
     },
     "execution_count": 17,
     "metadata": {},
     "output_type": "execute_result"
    }
   ],
   "source": [
    "MN_X"
   ]
  },
  {
   "cell_type": "code",
   "execution_count": null,
   "metadata": {},
   "outputs": [],
   "source": []
  }
 ],
 "metadata": {
  "kernelspec": {
   "display_name": "Python 3",
   "language": "python",
   "name": "python3"
  },
  "language_info": {
   "codemirror_mode": {
    "name": "ipython",
    "version": 3
   },
   "file_extension": ".py",
   "mimetype": "text/x-python",
   "name": "python",
   "nbconvert_exporter": "python",
   "pygments_lexer": "ipython3",
   "version": "3.7.3"
  }
 },
 "nbformat": 4,
 "nbformat_minor": 2
}
