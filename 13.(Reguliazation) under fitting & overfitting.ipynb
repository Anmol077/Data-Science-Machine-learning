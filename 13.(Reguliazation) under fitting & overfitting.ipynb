{
 "cells": [
  {
   "cell_type": "code",
   "execution_count": 2,
   "metadata": {},
   "outputs": [],
   "source": [
    "import pandas as pd\n",
    "import numpy as np\n",
    "from matplotlib import pyplot as plt\n",
    "%matplotlib inline\n",
    "import seaborn"
   ]
  },
  {
   "cell_type": "code",
   "execution_count": 6,
   "metadata": {},
   "outputs": [],
   "source": [
    "df = pd.read_csv(\"C:/Users/Anmol/Desktop/data science/insurance_data.csv\")"
   ]
  },
  {
   "cell_type": "code",
   "execution_count": 13,
   "metadata": {},
   "outputs": [
    {
     "data": {
      "text/plain": [
       "(27, 2)"
      ]
     },
     "execution_count": 13,
     "metadata": {},
     "output_type": "execute_result"
    }
   ],
   "source": [
    "df.head()\n",
    "df.shape"
   ]
  },
  {
   "cell_type": "code",
   "execution_count": 8,
   "metadata": {},
   "outputs": [],
   "source": [
    "x=df.age.values\n",
    "y=df.bought_insurance.values"
   ]
  },
  {
   "cell_type": "code",
   "execution_count": 9,
   "metadata": {},
   "outputs": [],
   "source": [
    "#train test split\n",
    "from sklearn.model_selection import train_test_split"
   ]
  },
  {
   "cell_type": "code",
   "execution_count": 11,
   "metadata": {},
   "outputs": [],
   "source": [
    "#split it to 10% testing and remaining training\n",
    "X_train, X_test,Y_train,Y_test = train_test_split(x,y,test_size=0.1)"
   ]
  },
  {
   "cell_type": "code",
   "execution_count": 12,
   "metadata": {},
   "outputs": [
    {
     "data": {
      "text/plain": [
       "array([18, 27, 45], dtype=int64)"
      ]
     },
     "execution_count": 12,
     "metadata": {},
     "output_type": "execute_result"
    }
   ],
   "source": [
    "X_test"
   ]
  },
  {
   "cell_type": "code",
   "execution_count": 14,
   "metadata": {},
   "outputs": [
    {
     "data": {
      "text/plain": [
       "array([0, 0, 1], dtype=int64)"
      ]
     },
     "execution_count": 14,
     "metadata": {},
     "output_type": "execute_result"
    }
   ],
   "source": [
    "Y_test"
   ]
  },
  {
   "cell_type": "code",
   "execution_count": 15,
   "metadata": {},
   "outputs": [
    {
     "data": {
      "text/plain": [
       "array([61, 18, 26, 19, 28, 47, 23, 25, 55, 22, 46, 58, 55, 25, 52, 56, 49,\n",
       "       29, 40, 21, 62, 50, 54, 60], dtype=int64)"
      ]
     },
     "execution_count": 15,
     "metadata": {},
     "output_type": "execute_result"
    }
   ],
   "source": [
    "X_train"
   ]
  },
  {
   "cell_type": "code",
   "execution_count": 16,
   "metadata": {},
   "outputs": [
    {
     "data": {
      "text/plain": [
       "array([1, 0, 0, 0, 0, 1, 0, 0, 1, 0, 1, 1, 0, 1, 0, 1, 1, 0, 1, 0, 1, 1,\n",
       "       1, 1], dtype=int64)"
      ]
     },
     "execution_count": 16,
     "metadata": {},
     "output_type": "execute_result"
    }
   ],
   "source": [
    "Y_train"
   ]
  },
  {
   "cell_type": "markdown",
   "metadata": {},
   "source": [
    "# K Fold Cross Validation"
   ]
  },
  {
   "cell_type": "code",
   "execution_count": 19,
   "metadata": {},
   "outputs": [
    {
     "name": "stdout",
     "output_type": "stream",
     "text": [
      "train: [52 46 56 55 60 62 61 18 28 27 29 49 55 25 58 19 18 21 26 40 45 50 54 23] test:[22 25 47] \n",
      "train: [22 25 47 55 60 62 61 18 28 27 29 49 55 25 58 19 18 21 26 40 45 50 54 23] test:[52 46 56] \n",
      "train: [22 25 47 52 46 56 61 18 28 27 29 49 55 25 58 19 18 21 26 40 45 50 54 23] test:[55 60 62] \n",
      "train: [22 25 47 52 46 56 55 60 62 27 29 49 55 25 58 19 18 21 26 40 45 50 54 23] test:[61 18 28] \n",
      "train: [22 25 47 52 46 56 55 60 62 61 18 28 55 25 58 19 18 21 26 40 45 50 54 23] test:[27 29 49] \n",
      "train: [22 25 47 52 46 56 55 60 62 61 18 28 27 29 49 19 18 21 26 40 45 50 54 23] test:[55 25 58] \n",
      "train: [22 25 47 52 46 56 55 60 62 61 18 28 27 29 49 55 25 58 26 40 45 50 54 23] test:[19 18 21] \n",
      "train: [22 25 47 52 46 56 55 60 62 61 18 28 27 29 49 55 25 58 19 18 21 45 50 54\n",
      " 23] test:[26 40] \n",
      "train: [22 25 47 52 46 56 55 60 62 61 18 28 27 29 49 55 25 58 19 18 21 26 40 54\n",
      " 23] test:[45 50] \n",
      "train: [22 25 47 52 46 56 55 60 62 61 18 28 27 29 49 55 25 58 19 18 21 26 40 45\n",
      " 50] test:[54 23] \n"
     ]
    }
   ],
   "source": [
    "from sklearn.model_selection import KFold\n",
    "import numpy as np\n",
    "kf = KFold(10)\n",
    "for train, test in kf.split(x):\n",
    "    print(\"train: %s test:%s \"%(x[train],x[test]))"
   ]
  },
  {
   "cell_type": "code",
   "execution_count": null,
   "metadata": {},
   "outputs": [],
   "source": []
  }
 ],
 "metadata": {
  "kernelspec": {
   "display_name": "Python 3",
   "language": "python",
   "name": "python3"
  },
  "language_info": {
   "codemirror_mode": {
    "name": "ipython",
    "version": 3
   },
   "file_extension": ".py",
   "mimetype": "text/x-python",
   "name": "python",
   "nbconvert_exporter": "python",
   "pygments_lexer": "ipython3",
   "version": "3.7.3"
  }
 },
 "nbformat": 4,
 "nbformat_minor": 2
}
