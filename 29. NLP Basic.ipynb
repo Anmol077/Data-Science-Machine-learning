{
 "cells": [
  {
   "cell_type": "code",
   "execution_count": 1,
   "metadata": {},
   "outputs": [
    {
     "name": "stderr",
     "output_type": "stream",
     "text": [
      "[nltk_data] Downloading package punkt to\n",
      "[nltk_data]     C:\\Users\\Anmol\\AppData\\Roaming\\nltk_data...\n",
      "[nltk_data]   Package punkt is already up-to-date!\n"
     ]
    },
    {
     "data": {
      "text/plain": [
       "True"
      ]
     },
     "execution_count": 1,
     "metadata": {},
     "output_type": "execute_result"
    }
   ],
   "source": [
    "import nltk\n",
    "nltk.download(\"punkt\")"
   ]
  },
  {
   "cell_type": "code",
   "execution_count": 2,
   "metadata": {},
   "outputs": [],
   "source": [
    "text = \"\"\"Hello Miss. Swathi, how are you doing today? Today the whether seems great,\n",
    "and bangalore city looks awesome. What did you eat in breakfast today morning\"\"\"\n"
   ]
  },
  {
   "cell_type": "code",
   "execution_count": 3,
   "metadata": {},
   "outputs": [
    {
     "name": "stdout",
     "output_type": "stream",
     "text": [
      "['Hello Miss.', 'Swathi, how are you doing today?', 'Today the whether seems great,\\nand bangalore city looks awesome.', 'What did you eat in breakfast today morning']\n"
     ]
    }
   ],
   "source": [
    "from nltk.tokenize import sent_tokenize\n",
    "tokenized_text = sent_tokenize(text)\n",
    "print(tokenized_text)"
   ]
  },
  {
   "cell_type": "code",
   "execution_count": 4,
   "metadata": {},
   "outputs": [
    {
     "name": "stdout",
     "output_type": "stream",
     "text": [
      "['Hello', 'Miss', '.', 'Swathi', ',', 'how', 'are', 'you', 'doing', 'today', '?', 'Today', 'the', 'whether', 'seems', 'great', ',', 'and', 'bangalore', 'city', 'looks', 'awesome', '.', 'What', 'did', 'you', 'eat', 'in', 'breakfast', 'today', 'morning']\n"
     ]
    }
   ],
   "source": [
    "from nltk.tokenize import word_tokenize\n",
    "tokenized_word = word_tokenize(text)\n",
    "print(tokenized_word)"
   ]
  },
  {
   "cell_type": "code",
   "execution_count": 5,
   "metadata": {},
   "outputs": [
    {
     "name": "stdout",
     "output_type": "stream",
     "text": [
      "['hello', 'miss', '.', 'swathi', ',', 'how', 'are', 'you', 'doing', 'today', '?', 'today', 'the', 'whether', 'seems', 'great', ',', 'and', 'bangalore', 'city', 'looks', 'awesome', '.', 'what', 'did', 'you', 'eat', 'in', 'breakfast', 'today', 'morning']\n"
     ]
    }
   ],
   "source": [
    "tokens = [w.lower() for w in tokenized_word]\n",
    "print(tokens)"
   ]
  },
  {
   "cell_type": "code",
   "execution_count": 6,
   "metadata": {},
   "outputs": [],
   "source": [
    "# niose removal\n",
    "not_required = ['doing']\n",
    "def noise_removal(text):\n",
    "    words = text.split()\n",
    "    final_text = [word for word in words if word not in not_required]\n",
    "    final_text = \"\".join(final_text)\n",
    "    return final_text"
   ]
  },
  {
   "cell_type": "code",
   "execution_count": 7,
   "metadata": {},
   "outputs": [
    {
     "data": {
      "text/plain": [
       "'HelloMiss.Swathi,howareyoutoday?Todaythewhetherseemsgreat,andbangalorecitylooksawesome.Whatdidyoueatinbreakfasttodaymorning'"
      ]
     },
     "execution_count": 7,
     "metadata": {},
     "output_type": "execute_result"
    }
   ],
   "source": [
    "noise_removal(text)"
   ]
  },
  {
   "cell_type": "code",
   "execution_count": 8,
   "metadata": {},
   "outputs": [
    {
     "name": "stdout",
     "output_type": "stream",
     "text": [
      "['hello', 'miss', 'swathi', 'how', 'are', 'you', 'doing', 'today', 'today', 'the', 'whether', 'seems', 'great', 'and', 'bangalore', 'city', 'looks', 'awesome', 'what', 'did', 'you', 'eat', 'in', 'breakfast', 'today', 'morning']\n"
     ]
    }
   ],
   "source": [
    "words = [word for word in tokens if word.isalpha()]\n",
    "print(words)"
   ]
  },
  {
   "cell_type": "code",
   "execution_count": 9,
   "metadata": {},
   "outputs": [
    {
     "name": "stdout",
     "output_type": "stream",
     "text": [
      "{'was', 'to', 'your', \"hasn't\", 'from', 'again', \"wouldn't\", \"should've\", 'that', 'all', 'up', 'few', \"you'll\", 'which', 'an', 'when', 'i', 'both', 'above', \"wasn't\", 'me', 'nor', 'down', 'couldn', 'this', \"won't\", 'wasn', \"don't\", 'after', 'no', 'not', 'a', 'yours', 'whom', 'against', 'hers', 'each', 'on', \"mightn't\", \"shouldn't\", 'll', 'ours', 'its', 'very', 'having', 'won', 'too', 'out', \"mustn't\", 'him', 'between', 'below', \"couldn't\", 'been', 'while', 'o', 'yourself', 'can', 'just', 'her', \"needn't\", 're', 'm', 'being', 'under', 'you', 'into', 'more', 'he', 'those', 'before', 'are', 'only', 'own', 'in', 'himself', 't', 'during', \"it's\", 'then', 'of', 'myself', 's', 'we', 'have', 'they', 'at', 'now', 'such', 'who', 'his', 'our', 'hasn', 'shouldn', \"she's\", 'needn', \"shan't\", 'for', 'off', 'so', 'other', 'there', 'she', 'any', 'ma', 'and', 'my', 'mightn', 'doing', 'd', 'than', \"doesn't\", 'but', \"hadn't\", 'until', 'don', 'same', 'where', \"weren't\", 'weren', 'aren', 'do', 'because', 'over', \"that'll\", 'why', 'itself', 'had', 'did', 'hadn', \"you'd\", 'am', 'these', 'most', 'is', 'by', 'mustn', 'themselves', \"you're\", 'y', \"didn't\", 'about', \"haven't\", 'isn', 'what', 'does', 'didn', 'through', 'how', 'it', \"you've\", 'herself', 've', 'doesn', 'be', 'were', 'ain', \"aren't\", 'with', 'them', 'here', 'once', 'yourselves', 'should', 'ourselves', 'some', 'theirs', 'if', 'or', 'wouldn', \"isn't\", 'further', 'haven', 'shan', 'their', 'has', 'as', 'will', 'the'}\n"
     ]
    },
    {
     "name": "stderr",
     "output_type": "stream",
     "text": [
      "[nltk_data] Downloading package stopwords to\n",
      "[nltk_data]     C:\\Users\\Anmol\\AppData\\Roaming\\nltk_data...\n",
      "[nltk_data]   Package stopwords is already up-to-date!\n"
     ]
    }
   ],
   "source": [
    "nltk.download('stopwords')\n",
    "from nltk.corpus import stopwords\n",
    "stop_words = set(stopwords.words(\"english\"))\n",
    "print(stop_words)"
   ]
  },
  {
   "cell_type": "code",
   "execution_count": 10,
   "metadata": {},
   "outputs": [
    {
     "name": "stdout",
     "output_type": "stream",
     "text": [
      "['hello', 'miss', 'swathi', 'today', 'today', 'whether', 'seems', 'great', 'bangalore', 'city', 'looks', 'awesome', 'eat', 'breakfast', 'today', 'morning']\n"
     ]
    }
   ],
   "source": [
    "words = [word for word in words if not word in stop_words]\n",
    "print(words)"
   ]
  },
  {
   "cell_type": "code",
   "execution_count": 11,
   "metadata": {},
   "outputs": [
    {
     "name": "stdout",
     "output_type": "stream",
     "text": [
      "Filtered Sentence: ['Hello', 'Miss', '.', 'Swathi', ',', 'how', 'are', 'you', 'doing', 'today', '?', 'Today', 'the', 'whether', 'seems', 'great', ',', 'and', 'bangalore', 'city', 'looks', 'awesome', '.', 'What', 'did', 'you', 'eat', 'in', 'breakfast', 'today', 'morning']\n",
      "stemmed Sentence: ['hello', 'miss', 'swathi', 'today', 'today', 'whether', 'seem', 'great', 'bangalor', 'citi', 'look', 'awesom', 'eat', 'breakfast', 'today', 'morn']\n"
     ]
    }
   ],
   "source": [
    "# it is pronounciation based specially for speech\n",
    "from nltk.stem import PorterStemmer\n",
    "ps = PorterStemmer()\n",
    "\n",
    "stemmed_words = []\n",
    "for w in words:\n",
    "    stemmed_words.append(ps.stem(w))\n",
    "\n",
    "print(\"Filtered Sentence:\",tokenized_word)\n",
    "print(\"stemmed Sentence:\",stemmed_words)\n"
   ]
  },
  {
   "cell_type": "code",
   "execution_count": 13,
   "metadata": {},
   "outputs": [
    {
     "name": "stdout",
     "output_type": "stream",
     "text": [
      "lemmatized Word: fly\n",
      "Stemmed Word: fli\n"
     ]
    },
    {
     "name": "stderr",
     "output_type": "stream",
     "text": [
      "[nltk_data] Downloading package wordnet to\n",
      "[nltk_data]     C:\\Users\\Anmol\\AppData\\Roaming\\nltk_data...\n",
      "[nltk_data]   Package wordnet is already up-to-date!\n"
     ]
    }
   ],
   "source": [
    "#it will give ligi...... correct\n",
    "nltk.download('wordnet')\n",
    "from nltk.stem.wordnet import WordNetLemmatizer\n",
    "lem = WordNetLemmatizer()\n",
    "\n",
    "from nltk.stem.porter import PorterStemmer\n",
    "stem = PorterStemmer()\n",
    "\n",
    "word = \"flying\"\n",
    "print(\"lemmatized Word:\",lem.lemmatize(word,\"v\"))# v means verbs\n",
    "print(\"Stemmed Word:\",stem.stem(word))"
   ]
  },
  {
   "cell_type": "code",
   "execution_count": null,
   "metadata": {},
   "outputs": [],
   "source": []
  }
 ],
 "metadata": {
  "kernelspec": {
   "display_name": "Python 3",
   "language": "python",
   "name": "python3"
  },
  "language_info": {
   "codemirror_mode": {
    "name": "ipython",
    "version": 3
   },
   "file_extension": ".py",
   "mimetype": "text/x-python",
   "name": "python",
   "nbconvert_exporter": "python",
   "pygments_lexer": "ipython3",
   "version": "3.7.3"
  }
 },
 "nbformat": 4,
 "nbformat_minor": 2
}
